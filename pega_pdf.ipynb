{
 "cells": [
  {
   "cell_type": "code",
   "execution_count": 1,
   "metadata": {},
   "outputs": [],
   "source": [
    "# -*- coding: utf-8\n",
    "# Abraji (https://www.abraji.org.br)\n",
    "# Reinaldo Chaves (reinaldo@abraji.org.br)\n",
    "# Acessa as respostas aos recursos administrativos em pedidos da LAI no Estado de São Paulo\n",
    "# Faz: o download dos PDFs, \n",
    "# transforma os arquivos em imagem, \n",
    "# faz uma leitura OCR, \n",
    "# captura o texto \n",
    "# e filtra por resposta deferidas e indeferidas\n",
    "# Cria dataframe e arquivos com os resultados\n",
    "# A rotina de leitura OCR foi adaptada de:\n",
    "# https://www.geeksforgeeks.org/python-reading-contents-of-pdf-using-ocr-optical-character-recognition/\n",
    "#"
   ]
  },
  {
   "cell_type": "code",
   "execution_count": null,
   "metadata": {},
   "outputs": [],
   "source": []
  },
  {
   "cell_type": "code",
   "execution_count": 2,
   "metadata": {},
   "outputs": [],
   "source": [
    "import requests\n",
    "from urllib.request import urlopen\n",
    "import wget\n",
    "from bs4 import BeautifulSoup\n",
    "import pandas as pd\n",
    "import os\n",
    "import time"
   ]
  },
  {
   "cell_type": "code",
   "execution_count": 3,
   "metadata": {},
   "outputs": [],
   "source": [
    "from PIL import Image \n",
    "import pytesseract \n",
    "import sys \n",
    "from pdf2image import convert_from_path "
   ]
  },
  {
   "cell_type": "code",
   "execution_count": null,
   "metadata": {},
   "outputs": [],
   "source": []
  },
  {
   "cell_type": "code",
   "execution_count": 3,
   "metadata": {},
   "outputs": [],
   "source": [
    "def captura_texto(arquivo):\n",
    "    PDF_file = arquivo\n",
    "\n",
    "    # Armazena todas as páginas do PDF em uma variável\n",
    "    pages = convert_from_path(PDF_file, 500) \n",
    "\n",
    "    # Contador para armazenar imagens de cada página do PDF na imagem\n",
    "    image_counter = 1\n",
    "\n",
    "    # Itera todas as páginas armazenadas acima\n",
    "    for page in pages: \n",
    "        # Declarando o nome do arquivo para cada página do PDF como JPG\n",
    "        # Para cada página, o nome do arquivo será:\n",
    "        # PDF page 1 -> page_1.jpg \n",
    "        # PDF page 2 -> page_2.jpg \n",
    "        # PDF page 3 -> page_3.jpg \n",
    "        # .... \n",
    "        # PDF page n -> page_n.jpg \n",
    "        filename = \"page_\"+str(image_counter)+\".jpg\"\n",
    "      \n",
    "        # Salve a imagem da página no sistema\n",
    "        page.save(filename, 'JPEG') \n",
    "  \n",
    "        # Incremente o contador para atualizar o nome do arquivo\n",
    "        image_counter = image_counter + 1\n",
    "\n",
    "    ''' \n",
    "    Parte 2 - Reconhecendo o texto das imagens usando o OCR\n",
    "    '''\n",
    "    \n",
    "    # Variável para obter a contagem do número total de páginas\n",
    "    filelimit = image_counter-1\n",
    "  \n",
    "    # Criando um arquivo de texto para gravar a saída\n",
    "    outfile = \"out_text.txt\"\n",
    "  \n",
    "    # Abra o arquivo no modo de acréscimo para que\n",
    "    # todo o conteúdo de todas as imagens seja adicionado ao mesmo arquivo\n",
    "    f = open(outfile, \"a\") \n",
    "  \n",
    "    # Iterar de 1 para o número total de páginas\n",
    "\n",
    "    for i in range(1, filelimit + 1): \n",
    "        # Defina o nome do arquivo para reconhecer o texto\n",
    "        # Novamente, esses arquivos serão:\n",
    "        # page_1.jpg \n",
    "        # page_2.jpg \n",
    "        # .... \n",
    "        # page_n.jpg \n",
    "        filename = \"page_\"+str(i)+\".jpg\"\n",
    "          \n",
    "        # Reconhecer o texto como string na imagem usando pytesserct\n",
    "        text = str(((pytesseract.image_to_string(Image.open(filename))))) \n",
    "  \n",
    "        # O texto reconhecido é armazenado em uma variável de texto\n",
    "        # Qualquer processamento de string pode ser aplicado ao texto\n",
    "        # Aqui, a formatação básica foi feita:\n",
    "        # Em muitos PDFs, no final da linha, se uma palavra não puder\n",
    "        # ser totalmente escrita, um 'hífen' é adicionado.\n",
    "        # O restante da palavra está escrito na próxima linha\n",
    "        # Por exemplo: Este é um exemplo de texto desta palavra aqui GeeksF-\n",
    "        # orGeeks está na metade da primeira linha, permanecendo na próxima.\n",
    "        # Para remover isso, substituímos todos os '-\\n' por ''.  \n",
    "        text = text.replace('-\\n', '')     \n",
    "  \n",
    "        # Por fim, escreve o texto processado no arquivo.\n",
    "        f.write(text) \n",
    "  \n",
    "    # Feche o arquivo depois de escrever todo o texto\n",
    "    f.close() \n",
    "    \n",
    "    # Abre o arquivo criado\n",
    "    f=open(\"out_text.txt\", \"r\")\n",
    "    \n",
    "    if f.mode == 'r':\n",
    "        # Armazena o conteudo\n",
    "        contents =f.read()\n",
    "        conteudo = contents\n",
    "    else:\n",
    "        conteudo = \"\"\n",
    "    \n",
    "    # Retorna o conteudo para iteração principal\n",
    "    return conteudo"
   ]
  },
  {
   "cell_type": "code",
   "execution_count": null,
   "metadata": {},
   "outputs": [],
   "source": []
  },
  {
   "cell_type": "code",
   "execution_count": null,
   "metadata": {},
   "outputs": [],
   "source": [
    "# URL onde estão os links dos PDFs"
   ]
  },
  {
   "cell_type": "code",
   "execution_count": 4,
   "metadata": {},
   "outputs": [],
   "source": [
    "pagina = urlopen(\"http://www.ouvidoriageral.sp.gov.br/decisoesLAI.html\")"
   ]
  },
  {
   "cell_type": "code",
   "execution_count": 5,
   "metadata": {},
   "outputs": [],
   "source": [
    "# Procura o local com os endereços dos arquivos"
   ]
  },
  {
   "cell_type": "code",
   "execution_count": 6,
   "metadata": {},
   "outputs": [],
   "source": [
    "sopa =  BeautifulSoup(pagina, \"lxml\")"
   ]
  },
  {
   "cell_type": "code",
   "execution_count": null,
   "metadata": {},
   "outputs": [],
   "source": []
  },
  {
   "cell_type": "code",
   "execution_count": 13,
   "metadata": {},
   "outputs": [],
   "source": [
    "pdfs = sopa.findAll(id='dataTable')"
   ]
  },
  {
   "cell_type": "code",
   "execution_count": null,
   "metadata": {},
   "outputs": [],
   "source": []
  },
  {
   "cell_type": "code",
   "execution_count": 74,
   "metadata": {},
   "outputs": [],
   "source": [
    "lista = []\n",
    "fixo = \"http://www.ouvidoriageral.sp.gov.br/\""
   ]
  },
  {
   "cell_type": "code",
   "execution_count": 75,
   "metadata": {},
   "outputs": [],
   "source": [
    "# Faz um iteração na tabela de links e armazena os endereços"
   ]
  },
  {
   "cell_type": "code",
   "execution_count": 76,
   "metadata": {},
   "outputs": [],
   "source": [
    "for table_ele in pdfs:\n",
    "    \n",
    "    for row in table_ele.findAll('tr'):\n",
    "        \n",
    "        cols = row.findAll('td')\n",
    "       \n",
    "        if not cols:\n",
    "            None\n",
    "        else:\n",
    "            resumo = cols[-3].text\n",
    "            decisao = cols[-2].text\n",
    "            orgao = cols[-4].text\n",
    "            numero = cols[-5].text\n",
    "            ano = cols[-6].text\n",
    "            url = cols[-1]\n",
    "            exato = url.find('a').get('href')\n",
    "            site = fixo + exato\n",
    "            \n",
    "            dicionario = {\"site\": str(site).strip(),\n",
    "                          \"numero\": str(numero).strip(),\n",
    "                          \"ano\": str(ano).strip(),\n",
    "                          \"resumo\": str(resumo).strip(),\n",
    "                          \"decisao\": str(decisao).strip(),\n",
    "                          \"orgao\": str(orgao).strip()\n",
    "                             }\n",
    "            \n",
    "            lista.append(dicionario)"
   ]
  },
  {
   "cell_type": "code",
   "execution_count": 77,
   "metadata": {},
   "outputs": [],
   "source": [
    "# Cria um dataframe"
   ]
  },
  {
   "cell_type": "code",
   "execution_count": 78,
   "metadata": {},
   "outputs": [],
   "source": [
    "df_pdfs = pd.DataFrame(lista)"
   ]
  },
  {
   "cell_type": "code",
   "execution_count": 79,
   "metadata": {},
   "outputs": [
    {
     "name": "stdout",
     "output_type": "stream",
     "text": [
      "<class 'pandas.core.frame.DataFrame'>\n",
      "RangeIndex: 1548 entries, 0 to 1547\n",
      "Data columns (total 6 columns):\n",
      " #   Column   Non-Null Count  Dtype \n",
      "---  ------   --------------  ----- \n",
      " 0   site     1548 non-null   object\n",
      " 1   numero   1548 non-null   object\n",
      " 2   ano      1548 non-null   object\n",
      " 3   resumo   1548 non-null   object\n",
      " 4   decisao  1548 non-null   object\n",
      " 5   orgao    1548 non-null   object\n",
      "dtypes: object(6)\n",
      "memory usage: 72.7+ KB\n"
     ]
    }
   ],
   "source": [
    "df_pdfs.info()"
   ]
  },
  {
   "cell_type": "code",
   "execution_count": 80,
   "metadata": {},
   "outputs": [
    {
     "data": {
      "text/html": [
       "<div>\n",
       "<style scoped>\n",
       "    .dataframe tbody tr th:only-of-type {\n",
       "        vertical-align: middle;\n",
       "    }\n",
       "\n",
       "    .dataframe tbody tr th {\n",
       "        vertical-align: top;\n",
       "    }\n",
       "\n",
       "    .dataframe thead th {\n",
       "        text-align: right;\n",
       "    }\n",
       "</style>\n",
       "<table border=\"1\" class=\"dataframe\">\n",
       "  <thead>\n",
       "    <tr style=\"text-align: right;\">\n",
       "      <th></th>\n",
       "      <th>index</th>\n",
       "      <th>site</th>\n",
       "      <th>numero</th>\n",
       "      <th>ano</th>\n",
       "      <th>resumo</th>\n",
       "      <th>decisao</th>\n",
       "      <th>orgao</th>\n",
       "    </tr>\n",
       "  </thead>\n",
       "  <tbody>\n",
       "    <tr>\n",
       "      <th>1543</th>\n",
       "      <td>1543</td>\n",
       "      <td>http://www.ouvidoriageral.sp.gov.br/LAI/arquiv...</td>\n",
       "      <td>365</td>\n",
       "      <td>2016</td>\n",
       "      <td>Vagas para cargo de    Professor de Lingua Esp...</td>\n",
       "      <td>Negado provimento</td>\n",
       "      <td>Secretaria    Estadual da Educação - SEE</td>\n",
       "    </tr>\n",
       "    <tr>\n",
       "      <th>1544</th>\n",
       "      <td>1544</td>\n",
       "      <td>http://www.ouvidoriageral.sp.gov.br/LAI/arquiv...</td>\n",
       "      <td>366</td>\n",
       "      <td>2016</td>\n",
       "      <td>Iimóveis alienados    pela Secretaria Estadual...</td>\n",
       "      <td>Provimento</td>\n",
       "      <td>Secretaria de    Logistica e Transportes -Depa...</td>\n",
       "    </tr>\n",
       "    <tr>\n",
       "      <th>1545</th>\n",
       "      <td>1545</td>\n",
       "      <td>http://www.ouvidoriageral.sp.gov.br/LAI/arquiv...</td>\n",
       "      <td>367</td>\n",
       "      <td>2016</td>\n",
       "      <td>Não Localizada</td>\n",
       "      <td></td>\n",
       "      <td>Não Localizada</td>\n",
       "    </tr>\n",
       "    <tr>\n",
       "      <th>1546</th>\n",
       "      <td>1546</td>\n",
       "      <td>http://www.ouvidoriageral.sp.gov.br/#</td>\n",
       "      <td>368</td>\n",
       "      <td>2016</td>\n",
       "      <td>Processo disciplinar,    laudo periciais</td>\n",
       "      <td>Negado provimento</td>\n",
       "      <td>Secretaria    Estadual da Segurança Pública - ...</td>\n",
       "    </tr>\n",
       "    <tr>\n",
       "      <th>1547</th>\n",
       "      <td>1547</td>\n",
       "      <td>http://www.ouvidoriageral.sp.gov.br/LAI/arquiv...</td>\n",
       "      <td>369</td>\n",
       "      <td>2016</td>\n",
       "      <td>Contratos para    realização de show</td>\n",
       "      <td>Provimento</td>\n",
       "      <td>Secretaria    Estadual da Cultura</td>\n",
       "    </tr>\n",
       "  </tbody>\n",
       "</table>\n",
       "</div>"
      ],
      "text/plain": [
       "      index                                               site numero   ano  \\\n",
       "1543   1543  http://www.ouvidoriageral.sp.gov.br/LAI/arquiv...    365  2016   \n",
       "1544   1544  http://www.ouvidoriageral.sp.gov.br/LAI/arquiv...    366  2016   \n",
       "1545   1545  http://www.ouvidoriageral.sp.gov.br/LAI/arquiv...    367  2016   \n",
       "1546   1546              http://www.ouvidoriageral.sp.gov.br/#    368  2016   \n",
       "1547   1547  http://www.ouvidoriageral.sp.gov.br/LAI/arquiv...    369  2016   \n",
       "\n",
       "                                                 resumo            decisao  \\\n",
       "1543  Vagas para cargo de    Professor de Lingua Esp...  Negado provimento   \n",
       "1544  Iimóveis alienados    pela Secretaria Estadual...         Provimento   \n",
       "1545                                     Não Localizada                      \n",
       "1546           Processo disciplinar,    laudo periciais  Negado provimento   \n",
       "1547               Contratos para    realização de show         Provimento   \n",
       "\n",
       "                                                  orgao  \n",
       "1543           Secretaria    Estadual da Educação - SEE  \n",
       "1544  Secretaria de    Logistica e Transportes -Depa...  \n",
       "1545                                     Não Localizada  \n",
       "1546  Secretaria    Estadual da Segurança Pública - ...  \n",
       "1547                  Secretaria    Estadual da Cultura  "
      ]
     },
     "execution_count": 80,
     "metadata": {},
     "output_type": "execute_result"
    }
   ],
   "source": [
    "df_pdfs.reset_index().tail()"
   ]
  },
  {
   "cell_type": "code",
   "execution_count": 84,
   "metadata": {},
   "outputs": [],
   "source": [
    "df_pdfs.to_excel('lista_da_tabela_ouvidoria_sp.xlsx',sheet_name='Sheet1', index=False)"
   ]
  },
  {
   "cell_type": "code",
   "execution_count": null,
   "metadata": {},
   "outputs": [],
   "source": []
  },
  {
   "cell_type": "code",
   "execution_count": 15,
   "metadata": {},
   "outputs": [],
   "source": [
    "# Seta o diretório de trabalho "
   ]
  },
  {
   "cell_type": "code",
   "execution_count": 23,
   "metadata": {},
   "outputs": [
    {
     "name": "stdout",
     "output_type": "stream",
     "text": [
      "/home/abraji/Documentos/Code/lai_sp/repo\n"
     ]
    }
   ],
   "source": [
    "print (os.getcwd())"
   ]
  },
  {
   "cell_type": "code",
   "execution_count": 24,
   "metadata": {},
   "outputs": [],
   "source": [
    "os.chdir(\"/home/abraji/Documentos/Code/lai_sp/repo/pdfs\")"
   ]
  },
  {
   "cell_type": "code",
   "execution_count": 25,
   "metadata": {},
   "outputs": [
    {
     "name": "stdout",
     "output_type": "stream",
     "text": [
      "/home/abraji/Documentos/Code/lai_sp/repo/pdfs\n"
     ]
    }
   ],
   "source": [
    "print (os.getcwd())"
   ]
  },
  {
   "cell_type": "code",
   "execution_count": 26,
   "metadata": {},
   "outputs": [],
   "source": [
    "dirname = \"/home/abraji/Documentos/Code/lai_sp/repo/pdfs\""
   ]
  },
  {
   "cell_type": "code",
   "execution_count": null,
   "metadata": {},
   "outputs": [],
   "source": []
  },
  {
   "cell_type": "code",
   "execution_count": null,
   "metadata": {},
   "outputs": [],
   "source": [
    "# Cria uma lista vazia para os resultados"
   ]
  },
  {
   "cell_type": "code",
   "execution_count": 16,
   "metadata": {},
   "outputs": [],
   "source": [
    "lista_final = []"
   ]
  },
  {
   "cell_type": "code",
   "execution_count": null,
   "metadata": {},
   "outputs": [],
   "source": [
    "# Inicia iteração no dataframe de links de PDFs"
   ]
  },
  {
   "cell_type": "code",
   "execution_count": null,
   "metadata": {},
   "outputs": [],
   "source": [
    "for num, row in df_pdfs.iterrows():\n",
    "    # Cria variáveis com os itens do PDFs\n",
    "    link = row['site']\n",
    "    numero = row['numero']\n",
    "    ano = row['ano']\n",
    "    # O nome do arquivo fica nessa posição, mas pode ter um caracter indevido\n",
    "    arquivo = link[50:]\n",
    "    arquivo = arquivo.replace(\"/\", \"\")\n",
    "    \n",
    "    print(arquivo)\n",
    "    print(link)\n",
    "    #time.sleep(2)\n",
    "    \n",
    "    try:\n",
    "        # Faz o download do PDF\n",
    "        wget.download(link)\n",
    "        \n",
    "        # Faz a rotina OCR, baseado no nome do arquivo na função acima\n",
    "        texto = captura_texto(arquivo)\n",
    "        \n",
    "        # Cria um dicionário com dados do PDFs e seu conteúdo retornado\n",
    "        dicionario = {\"site\": str(link).strip(),\n",
    "                      \"numero\": str(numero).strip(),\n",
    "                      \"ano\": str(ano).strip(),\n",
    "                      \"texto_do_documento\": str(texto).strip()\n",
    "                             }\n",
    "        # Armazena na lista criada\n",
    "        lista_final.append(dicionario)\n",
    "        \n",
    "        # Apaga o arquivo de conteudo do PDF atual\n",
    "        os.remove(\"out_text.txt\")\n",
    "        # Apaga as imagens OCR do PDF atual\n",
    "        test = os.listdir(dirname)\n",
    "        for item in test:\n",
    "            if item.endswith(\".jpg\"):\n",
    "                os.remove(os.path.join(dirname, item))\n",
    "        \n",
    "    except:\n",
    "        print(\"ERRRO\")\n",
    "        pass"
   ]
  },
  {
   "cell_type": "code",
   "execution_count": null,
   "metadata": {},
   "outputs": [],
   "source": [
    "# Cria dataframe a partir da lista de conteudos de PDFs"
   ]
  },
  {
   "cell_type": "code",
   "execution_count": 18,
   "metadata": {},
   "outputs": [],
   "source": [
    "df_pdfs_final = pd.DataFrame(lista_final)"
   ]
  },
  {
   "cell_type": "code",
   "execution_count": 19,
   "metadata": {},
   "outputs": [
    {
     "data": {
      "text/html": [
       "<div>\n",
       "<style scoped>\n",
       "    .dataframe tbody tr th:only-of-type {\n",
       "        vertical-align: middle;\n",
       "    }\n",
       "\n",
       "    .dataframe tbody tr th {\n",
       "        vertical-align: top;\n",
       "    }\n",
       "\n",
       "    .dataframe thead th {\n",
       "        text-align: right;\n",
       "    }\n",
       "</style>\n",
       "<table border=\"1\" class=\"dataframe\">\n",
       "  <thead>\n",
       "    <tr style=\"text-align: right;\">\n",
       "      <th></th>\n",
       "      <th>index</th>\n",
       "      <th>site</th>\n",
       "      <th>numero</th>\n",
       "      <th>ano</th>\n",
       "      <th>texto_do_documento</th>\n",
       "    </tr>\n",
       "  </thead>\n",
       "  <tbody>\n",
       "    <tr>\n",
       "      <th>0</th>\n",
       "      <td>0</td>\n",
       "      <td>http://www.ouvidoriageral.sp.gov.br/decisoes/2...</td>\n",
       "      <td>004</td>\n",
       "      <td>2019</td>\n",
       "      <td>GOVERNO DO ESTADO DE SAO PAULO\\nOUVIDORIA GERA...</td>\n",
       "    </tr>\n",
       "    <tr>\n",
       "      <th>1</th>\n",
       "      <td>1</td>\n",
       "      <td>http://www.ouvidoriageral.sp.gov.br/decisoes/2...</td>\n",
       "      <td>005</td>\n",
       "      <td>2019</td>\n",
       "      <td>GOVERNO DO ESTADO DE SAO PAULO\\nOUVIDORIA GERA...</td>\n",
       "    </tr>\n",
       "    <tr>\n",
       "      <th>2</th>\n",
       "      <td>2</td>\n",
       "      <td>http://www.ouvidoriageral.sp.gov.br/decisoes/2...</td>\n",
       "      <td>006</td>\n",
       "      <td>2019</td>\n",
       "      <td>—\\n\\nGOVERNO DO ESTADO DE SAO PAULO\\nOUVIDORIA...</td>\n",
       "    </tr>\n",
       "    <tr>\n",
       "      <th>3</th>\n",
       "      <td>3</td>\n",
       "      <td>http://www.ouvidoriageral.sp.gov.br/decisoes/2...</td>\n",
       "      <td>007</td>\n",
       "      <td>2019</td>\n",
       "      <td>GOVERNO DO ESTADO DE SAO PAULO\\nOUVIDORIA GERA...</td>\n",
       "    </tr>\n",
       "    <tr>\n",
       "      <th>4</th>\n",
       "      <td>4</td>\n",
       "      <td>http://www.ouvidoriageral.sp.gov.br/decisoes/2...</td>\n",
       "      <td>008</td>\n",
       "      <td>2019</td>\n",
       "      <td>GOVERNO DO ESTADO DE SAO PAULO\\nOUVIDORIA GERA...</td>\n",
       "    </tr>\n",
       "  </tbody>\n",
       "</table>\n",
       "</div>"
      ],
      "text/plain": [
       "   index                                               site numero   ano  \\\n",
       "0      0  http://www.ouvidoriageral.sp.gov.br/decisoes/2...    004  2019   \n",
       "1      1  http://www.ouvidoriageral.sp.gov.br/decisoes/2...    005  2019   \n",
       "2      2  http://www.ouvidoriageral.sp.gov.br/decisoes/2...    006  2019   \n",
       "3      3  http://www.ouvidoriageral.sp.gov.br/decisoes/2...    007  2019   \n",
       "4      4  http://www.ouvidoriageral.sp.gov.br/decisoes/2...    008  2019   \n",
       "\n",
       "                                  texto_do_documento  \n",
       "0  GOVERNO DO ESTADO DE SAO PAULO\\nOUVIDORIA GERA...  \n",
       "1  GOVERNO DO ESTADO DE SAO PAULO\\nOUVIDORIA GERA...  \n",
       "2  —\\n\\nGOVERNO DO ESTADO DE SAO PAULO\\nOUVIDORIA...  \n",
       "3  GOVERNO DO ESTADO DE SAO PAULO\\nOUVIDORIA GERA...  \n",
       "4  GOVERNO DO ESTADO DE SAO PAULO\\nOUVIDORIA GERA...  "
      ]
     },
     "execution_count": 19,
     "metadata": {},
     "output_type": "execute_result"
    }
   ],
   "source": [
    "df_pdfs_final.reset_index().head()"
   ]
  },
  {
   "cell_type": "code",
   "execution_count": 27,
   "metadata": {},
   "outputs": [
    {
     "name": "stdout",
     "output_type": "stream",
     "text": [
      "<class 'pandas.core.frame.DataFrame'>\n",
      "RangeIndex: 1253 entries, 0 to 1252\n",
      "Data columns (total 5 columns):\n",
      " #   Column              Non-Null Count  Dtype \n",
      "---  ------              --------------  ----- \n",
      " 0   site                1253 non-null   object\n",
      " 1   numero              1253 non-null   object\n",
      " 2   ano                 1253 non-null   object\n",
      " 3   texto_do_documento  1253 non-null   object\n",
      " 4   texto_minusculo     1253 non-null   object\n",
      "dtypes: object(5)\n",
      "memory usage: 49.1+ KB\n"
     ]
    }
   ],
   "source": [
    "df_pdfs_final.info()"
   ]
  },
  {
   "cell_type": "code",
   "execution_count": 21,
   "metadata": {},
   "outputs": [],
   "source": [
    "df_pdfs_final.to_csv(\"../laisp_textos.csv\", index=False)"
   ]
  },
  {
   "cell_type": "code",
   "execution_count": null,
   "metadata": {},
   "outputs": [],
   "source": []
  },
  {
   "cell_type": "code",
   "execution_count": null,
   "metadata": {},
   "outputs": [],
   "source": [
    "# Carrega arquivo salvo se não quiser repetir o download OCR"
   ]
  },
  {
   "cell_type": "code",
   "execution_count": 59,
   "metadata": {},
   "outputs": [],
   "source": [
    "kwargs = {'sep': ',', 'dtype': str, 'encoding': 'utf-8'}\n",
    "df_pdfs_final = pd.read_csv(\"laisp_textos.csv\", **kwargs)"
   ]
  },
  {
   "cell_type": "code",
   "execution_count": null,
   "metadata": {},
   "outputs": [],
   "source": []
  },
  {
   "cell_type": "code",
   "execution_count": 19,
   "metadata": {},
   "outputs": [],
   "source": [
    "teste = df_pdfs_final[pd.isnull(df_pdfs_final['texto_do_documento'])]"
   ]
  },
  {
   "cell_type": "code",
   "execution_count": 20,
   "metadata": {},
   "outputs": [
    {
     "data": {
      "text/html": [
       "<div>\n",
       "<style scoped>\n",
       "    .dataframe tbody tr th:only-of-type {\n",
       "        vertical-align: middle;\n",
       "    }\n",
       "\n",
       "    .dataframe tbody tr th {\n",
       "        vertical-align: top;\n",
       "    }\n",
       "\n",
       "    .dataframe thead th {\n",
       "        text-align: right;\n",
       "    }\n",
       "</style>\n",
       "<table border=\"1\" class=\"dataframe\">\n",
       "  <thead>\n",
       "    <tr style=\"text-align: right;\">\n",
       "      <th></th>\n",
       "      <th>site</th>\n",
       "      <th>numero</th>\n",
       "      <th>ano</th>\n",
       "      <th>texto_do_documento</th>\n",
       "    </tr>\n",
       "  </thead>\n",
       "  <tbody>\n",
       "    <tr>\n",
       "      <th>463</th>\n",
       "      <td>http://www.ouvidoriageral.sp.gov.br/decisoes/2...</td>\n",
       "      <td>122</td>\n",
       "      <td>2018</td>\n",
       "      <td>NaN</td>\n",
       "    </tr>\n",
       "  </tbody>\n",
       "</table>\n",
       "</div>"
      ],
      "text/plain": [
       "                                                  site numero   ano  \\\n",
       "463  http://www.ouvidoriageral.sp.gov.br/decisoes/2...    122  2018   \n",
       "\n",
       "    texto_do_documento  \n",
       "463                NaN  "
      ]
     },
     "execution_count": 20,
     "metadata": {},
     "output_type": "execute_result"
    }
   ],
   "source": [
    "teste"
   ]
  },
  {
   "cell_type": "code",
   "execution_count": 21,
   "metadata": {},
   "outputs": [],
   "source": [
    "teste.to_csv(\"teste.csv\", index=False)"
   ]
  },
  {
   "cell_type": "code",
   "execution_count": null,
   "metadata": {},
   "outputs": [],
   "source": []
  },
  {
   "cell_type": "code",
   "execution_count": 60,
   "metadata": {},
   "outputs": [],
   "source": [
    "df_pdfs_final = df_pdfs_final[pd.notnull(df_pdfs_final['texto_do_documento'])]"
   ]
  },
  {
   "cell_type": "code",
   "execution_count": 61,
   "metadata": {},
   "outputs": [
    {
     "data": {
      "text/plain": [
       "(1252, 4)"
      ]
     },
     "execution_count": 61,
     "metadata": {},
     "output_type": "execute_result"
    }
   ],
   "source": [
    "df_pdfs_final.shape"
   ]
  },
  {
   "cell_type": "code",
   "execution_count": null,
   "metadata": {},
   "outputs": [],
   "source": []
  },
  {
   "cell_type": "code",
   "execution_count": 62,
   "metadata": {},
   "outputs": [],
   "source": [
    "# Cria um campo em separado copia para fazer buscas"
   ]
  },
  {
   "cell_type": "code",
   "execution_count": 63,
   "metadata": {},
   "outputs": [],
   "source": [
    "df_pdfs_final['texto_minusculo'] = df_pdfs_final['texto_do_documento']\n",
    "df_pdfs_final['texto_minusculo'] = df_pdfs_final['texto_minusculo'].str.lower()"
   ]
  },
  {
   "cell_type": "code",
   "execution_count": 64,
   "metadata": {},
   "outputs": [],
   "source": [
    "# Procura termos relacionados a indeferimento"
   ]
  },
  {
   "cell_type": "code",
   "execution_count": 65,
   "metadata": {},
   "outputs": [
    {
     "name": "stdout",
     "output_type": "stream",
     "text": [
      "<class 'pandas.core.frame.DataFrame'>\n",
      "Int64Index: 301 entries, 0 to 1251\n",
      "Data columns (total 5 columns):\n",
      " #   Column              Non-Null Count  Dtype \n",
      "---  ------              --------------  ----- \n",
      " 0   site                301 non-null    object\n",
      " 1   numero              301 non-null    object\n",
      " 2   ano                 301 non-null    object\n",
      " 3   texto_do_documento  301 non-null    object\n",
      " 4   texto_minusculo     301 non-null    object\n",
      "dtypes: object(5)\n",
      "memory usage: 14.1+ KB\n"
     ]
    }
   ],
   "source": [
    "#search_list = [\"indeferido\", \"indeferimento\", \"negado provimento\", \"recurso nao conhecido\", \"recurso não conhecido\", \"negar-lhe provimento\", \"nego-lhe provimento\", \"negando-lhe provimento\", \"nego provimento\"]\n",
    "search_list = [\"negar-lhe provimento\", \"nego-lhe provimento\", \"negando-lhe provimento\", \"nego provimento\", \"nego seu provimento\"]\n",
    "mask = df_pdfs_final['texto_minusculo'].str.contains('|'.join(search_list))\n",
    "indeferido = df_pdfs_final[mask]\n",
    "indeferido.info()"
   ]
  },
  {
   "cell_type": "code",
   "execution_count": 66,
   "metadata": {},
   "outputs": [],
   "source": [
    "indeferido.to_csv(\"indeferidos.csv\", index=False)"
   ]
  },
  {
   "cell_type": "code",
   "execution_count": null,
   "metadata": {},
   "outputs": [],
   "source": []
  },
  {
   "cell_type": "code",
   "execution_count": 67,
   "metadata": {},
   "outputs": [],
   "source": [
    "# Procura termos relacionados a deferimento"
   ]
  },
  {
   "cell_type": "code",
   "execution_count": 68,
   "metadata": {},
   "outputs": [
    {
     "name": "stdout",
     "output_type": "stream",
     "text": [
      "<class 'pandas.core.frame.DataFrame'>\n",
      "Int64Index: 239 entries, 5 to 1252\n",
      "Data columns (total 5 columns):\n",
      " #   Column              Non-Null Count  Dtype \n",
      "---  ------              --------------  ----- \n",
      " 0   site                239 non-null    object\n",
      " 1   numero              239 non-null    object\n",
      " 2   ano                 239 non-null    object\n",
      " 3   texto_do_documento  239 non-null    object\n",
      " 4   texto_minusculo     239 non-null    object\n",
      "dtypes: object(5)\n",
      "memory usage: 11.2+ KB\n"
     ]
    }
   ],
   "source": [
    "#search_list = [\"deferido\", \"deferimento\", \"provimento recursal\", \"dando-lhe provimento\", \"dando-lhe parcial provimento\", \"dou-lhe provimento\", \"dou-lhe parcial provimento\", \"dou provimento\", \"dou parcial provimento\"]\n",
    "search_list = [\"dando-lhe provimento\", \"dando-lhe parcial provimento\", \"dou-lhe provimento\", \"dou-lhe parcial provimento\", \"dou provimento\", \"dou parcial provimento\"]\n",
    "mask = df_pdfs_final['texto_minusculo'].str.contains('|'.join(search_list))\n",
    "deferido = df_pdfs_final[mask]\n",
    "deferido.info()"
   ]
  },
  {
   "cell_type": "code",
   "execution_count": 69,
   "metadata": {},
   "outputs": [],
   "source": [
    "deferido.to_csv(\"deferidos.csv\", index=False)"
   ]
  },
  {
   "cell_type": "code",
   "execution_count": null,
   "metadata": {},
   "outputs": [],
   "source": []
  },
  {
   "cell_type": "code",
   "execution_count": 35,
   "metadata": {},
   "outputs": [],
   "source": [
    "# Procura neutro"
   ]
  },
  {
   "cell_type": "code",
   "execution_count": 72,
   "metadata": {},
   "outputs": [
    {
     "name": "stdout",
     "output_type": "stream",
     "text": [
      "<class 'pandas.core.frame.DataFrame'>\n",
      "Int64Index: 268 entries, 3 to 1248\n",
      "Data columns (total 5 columns):\n",
      " #   Column              Non-Null Count  Dtype \n",
      "---  ------              --------------  ----- \n",
      " 0   site                268 non-null    object\n",
      " 1   numero              268 non-null    object\n",
      " 2   ano                 268 non-null    object\n",
      " 3   texto_do_documento  268 non-null    object\n",
      " 4   texto_minusculo     268 non-null    object\n",
      "dtypes: object(5)\n",
      "memory usage: 12.6+ KB\n"
     ]
    }
   ],
   "source": [
    "#search_list = [\"perda de objeto\", \"perda superveniente de objeto\"]\n",
    "search_list = [\"perda superveniente de objeto\"]\n",
    "mask = df_pdfs_final['texto_minusculo'].str.contains('|'.join(search_list))\n",
    "neutro = df_pdfs_final[mask]\n",
    "neutro.info()"
   ]
  },
  {
   "cell_type": "code",
   "execution_count": 73,
   "metadata": {},
   "outputs": [],
   "source": [
    "neutro.to_csv(\"neutros.csv\", index=False)"
   ]
  },
  {
   "cell_type": "code",
   "execution_count": null,
   "metadata": {},
   "outputs": [],
   "source": []
  },
  {
   "cell_type": "code",
   "execution_count": null,
   "metadata": {},
   "outputs": [],
   "source": [
    "# Não é recurso válido"
   ]
  },
  {
   "cell_type": "code",
   "execution_count": 74,
   "metadata": {},
   "outputs": [
    {
     "name": "stdout",
     "output_type": "stream",
     "text": [
      "<class 'pandas.core.frame.DataFrame'>\n",
      "Int64Index: 7 entries, 41 to 1020\n",
      "Data columns (total 5 columns):\n",
      " #   Column              Non-Null Count  Dtype \n",
      "---  ------              --------------  ----- \n",
      " 0   site                7 non-null      object\n",
      " 1   numero              7 non-null      object\n",
      " 2   ano                 7 non-null      object\n",
      " 3   texto_do_documento  7 non-null      object\n",
      " 4   texto_minusculo     7 non-null      object\n",
      "dtypes: object(5)\n",
      "memory usage: 336.0+ bytes\n"
     ]
    }
   ],
   "source": [
    "search_list = [\"não conheço do recurso\", \"nao conheco do recurso\"]\n",
    "mask = df_pdfs_final['texto_minusculo'].str.contains('|'.join(search_list))\n",
    "naovalido = df_pdfs_final[mask]\n",
    "naovalido.info()"
   ]
  },
  {
   "cell_type": "code",
   "execution_count": 75,
   "metadata": {},
   "outputs": [],
   "source": [
    "naovalido.to_csv(\"recurso_nao_valido.csv\", index=False)"
   ]
  },
  {
   "cell_type": "code",
   "execution_count": null,
   "metadata": {},
   "outputs": [],
   "source": []
  },
  {
   "cell_type": "code",
   "execution_count": 76,
   "metadata": {},
   "outputs": [],
   "source": [
    "# Nenhma dessas"
   ]
  },
  {
   "cell_type": "code",
   "execution_count": 77,
   "metadata": {},
   "outputs": [
    {
     "name": "stdout",
     "output_type": "stream",
     "text": [
      "<class 'pandas.core.frame.DataFrame'>\n",
      "Int64Index: 439 entries, 1 to 1246\n",
      "Data columns (total 5 columns):\n",
      " #   Column              Non-Null Count  Dtype \n",
      "---  ------              --------------  ----- \n",
      " 0   site                439 non-null    object\n",
      " 1   numero              439 non-null    object\n",
      " 2   ano                 439 non-null    object\n",
      " 3   texto_do_documento  439 non-null    object\n",
      " 4   texto_minusculo     439 non-null    object\n",
      "dtypes: object(5)\n",
      "memory usage: 20.6+ KB\n"
     ]
    }
   ],
   "source": [
    "#search_list = [\"indeferido\", \"indeferimento\", \"negado provimento\", \"recurso nao conhecido\", \"recurso não conhecido\", \"negar-lhe provimento\", \"nego-lhe provimento\", \"negando-lhe provimento\", \"nego provimento\", \"deferido\", \"deferimento\", \"provimento recursal\", \"dando-lhe provimento\", \"dando-lhe parcial provimento\", \"dou-lhe provimento\", \"dou-lhe parcial provimento\", \"dou provimento\", \"dou parcial provimento\", \"perda de objeto\", \"perda superveniente de objeto\"]\n",
    "search_list = [\"negar-lhe provimento\", \"nego-lhe provimento\", \"negando-lhe provimento\", \"nego provimento\", \"nego seu provimento\", \"dando-lhe provimento\", \"dando-lhe parcial provimento\", \"dou-lhe provimento\", \"dou-lhe parcial provimento\", \"dou provimento\", \"dou parcial provimento\",  \"perda superveniente de objeto\", \"não conheço do recurso\", \"nao conheco do recurso\"]\n",
    "mask = ~df_pdfs_final['texto_minusculo'].str.contains('|'.join(search_list))\n",
    "defora = df_pdfs_final[mask]\n",
    "defora.info()"
   ]
  },
  {
   "cell_type": "code",
   "execution_count": 78,
   "metadata": {},
   "outputs": [],
   "source": [
    "defora.to_csv(\"nao_encontrado.csv\", index=False)"
   ]
  },
  {
   "cell_type": "code",
   "execution_count": null,
   "metadata": {},
   "outputs": [],
   "source": []
  }
 ],
 "metadata": {
  "kernelspec": {
   "display_name": "Python 3",
   "language": "python",
   "name": "python3"
  },
  "language_info": {
   "codemirror_mode": {
    "name": "ipython",
    "version": 3
   },
   "file_extension": ".py",
   "mimetype": "text/x-python",
   "name": "python",
   "nbconvert_exporter": "python",
   "pygments_lexer": "ipython3",
   "version": "3.6.9"
  }
 },
 "nbformat": 4,
 "nbformat_minor": 4
}
