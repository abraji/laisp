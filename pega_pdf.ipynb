{
 "cells": [
  {
   "cell_type": "code",
   "execution_count": null,
   "metadata": {},
   "outputs": [],
   "source": [
    "# -*- coding: utf-8\n",
    "# Abraji (https://www.abraji.org.br)\n",
    "# Reinaldo Chaves (reinaldo@abraji.org.br)\n",
    "# Acessa as respostas aos recursos administrativos em pedidos da LAI no Estado de São Paulo\n",
    "# Faz: o download dos PDFs, \n",
    "# transforma os arquivos em imagem, \n",
    "# faz uma leitura OCR, \n",
    "# captura o texto \n",
    "# e filtra por resposta deferidas e indeferidas\n",
    "# Cria dataframe e arquivos com os resultados\n",
    "# A rotina de leitura OCR foi adaptada de:\n",
    "# https://www.geeksforgeeks.org/python-reading-contents-of-pdf-using-ocr-optical-character-recognition/\n",
    "#"
   ]
  },
  {
   "cell_type": "code",
   "execution_count": null,
   "metadata": {},
   "outputs": [],
   "source": []
  },
  {
   "cell_type": "code",
   "execution_count": 13,
   "metadata": {},
   "outputs": [],
   "source": [
    "import requests\n",
    "from urllib.request import urlopen\n",
    "import wget\n",
    "from bs4 import BeautifulSoup\n",
    "import pandas as pd\n",
    "import os\n",
    "import time"
   ]
  },
  {
   "cell_type": "code",
   "execution_count": 14,
   "metadata": {},
   "outputs": [],
   "source": [
    "from PIL import Image \n",
    "import pytesseract \n",
    "import sys \n",
    "from pdf2image import convert_from_path "
   ]
  },
  {
   "cell_type": "code",
   "execution_count": null,
   "metadata": {},
   "outputs": [],
   "source": []
  },
  {
   "cell_type": "code",
   "execution_count": 3,
   "metadata": {},
   "outputs": [],
   "source": [
    "def captura_texto(arquivo):\n",
    "    PDF_file = arquivo\n",
    "\n",
    "    # Armazena todas as páginas do PDF em uma variável\n",
    "    pages = convert_from_path(PDF_file, 500) \n",
    "\n",
    "    # Contador para armazenar imagens de cada página do PDF na imagem\n",
    "    image_counter = 1\n",
    "\n",
    "    # Itera todas as páginas armazenadas acima\n",
    "    for page in pages: \n",
    "        # Declarando o nome do arquivo para cada página do PDF como JPG\n",
    "        # Para cada página, o nome do arquivo será:\n",
    "        # PDF page 1 -> page_1.jpg \n",
    "        # PDF page 2 -> page_2.jpg \n",
    "        # PDF page 3 -> page_3.jpg \n",
    "        # .... \n",
    "        # PDF page n -> page_n.jpg \n",
    "        filename = \"page_\"+str(image_counter)+\".jpg\"\n",
    "      \n",
    "        # Salve a imagem da página no sistema\n",
    "        page.save(filename, 'JPEG') \n",
    "  \n",
    "        # Incremente o contador para atualizar o nome do arquivo\n",
    "        image_counter = image_counter + 1\n",
    "\n",
    "    ''' \n",
    "    Parte 2 - Reconhecendo o texto das imagens usando o OCR\n",
    "    '''\n",
    "    \n",
    "    # Variável para obter a contagem do número total de páginas\n",
    "    filelimit = image_counter-1\n",
    "  \n",
    "    # Criando um arquivo de texto para gravar a saída\n",
    "    outfile = \"out_text.txt\"\n",
    "  \n",
    "    # Abra o arquivo no modo de acréscimo para que\n",
    "    # todo o conteúdo de todas as imagens seja adicionado ao mesmo arquivo\n",
    "    f = open(outfile, \"a\") \n",
    "  \n",
    "    # Iterar de 1 para o número total de páginas\n",
    "\n",
    "    for i in range(1, filelimit + 1): \n",
    "        # Defina o nome do arquivo para reconhecer o texto\n",
    "        # Novamente, esses arquivos serão:\n",
    "        # page_1.jpg \n",
    "        # page_2.jpg \n",
    "        # .... \n",
    "        # page_n.jpg \n",
    "        filename = \"page_\"+str(i)+\".jpg\"\n",
    "          \n",
    "        # Reconhecer o texto como string na imagem usando pytesserct\n",
    "        text = str(((pytesseract.image_to_string(Image.open(filename))))) \n",
    "  \n",
    "        # O texto reconhecido é armazenado em uma variável de texto\n",
    "        # Qualquer processamento de string pode ser aplicado ao texto\n",
    "        # Aqui, a formatação básica foi feita:\n",
    "        # Em muitos PDFs, no final da linha, se uma palavra não puder\n",
    "        # ser totalmente escrita, um 'hífen' é adicionado.\n",
    "        # O restante da palavra está escrito na próxima linha\n",
    "        # Por exemplo: Este é um exemplo de texto desta palavra aqui GeeksF-\n",
    "        # orGeeks está na metade da primeira linha, permanecendo na próxima.\n",
    "        # Para remover isso, substituímos todos os '-\\n' por ''.  \n",
    "        text = text.replace('-\\n', '')     \n",
    "  \n",
    "        # Por fim, escreve o texto processado no arquivo.\n",
    "        f.write(text) \n",
    "  \n",
    "    # Feche o arquivo depois de escrever todo o texto\n",
    "    f.close() \n",
    "    \n",
    "    # Abre o arquivo criado\n",
    "    f=open(\"out_text.txt\", \"r\")\n",
    "    \n",
    "    if f.mode == 'r':\n",
    "        # Armazena o conteudo\n",
    "        contents =f.read()\n",
    "        conteudo = contents\n",
    "    else:\n",
    "        conteudo = \"\"\n",
    "    \n",
    "    # Retorna o conteudo para iteração principal\n",
    "    return conteudo"
   ]
  },
  {
   "cell_type": "code",
   "execution_count": null,
   "metadata": {},
   "outputs": [],
   "source": []
  },
  {
   "cell_type": "code",
   "execution_count": null,
   "metadata": {},
   "outputs": [],
   "source": [
    "# URL onde estão os links dos PDFs"
   ]
  },
  {
   "cell_type": "code",
   "execution_count": 4,
   "metadata": {},
   "outputs": [],
   "source": [
    "pagina = urlopen(\"http://www.ouvidoriageral.sp.gov.br/decisoesLAI.html\")"
   ]
  },
  {
   "cell_type": "code",
   "execution_count": null,
   "metadata": {},
   "outputs": [],
   "source": [
    "# Procura o local com os endereços dos arquivos"
   ]
  },
  {
   "cell_type": "code",
   "execution_count": 5,
   "metadata": {},
   "outputs": [],
   "source": [
    "sopa =  BeautifulSoup(pagina, \"lxml\")"
   ]
  },
  {
   "cell_type": "code",
   "execution_count": 6,
   "metadata": {},
   "outputs": [],
   "source": [
    "pdfs = sopa.findAll(\"table\", {\"class\":\"borderTD\"})"
   ]
  },
  {
   "cell_type": "code",
   "execution_count": 7,
   "metadata": {},
   "outputs": [],
   "source": [
    "lista = []\n",
    "fixo = \"http://www.ouvidoriageral.sp.gov.br/\""
   ]
  },
  {
   "cell_type": "code",
   "execution_count": null,
   "metadata": {},
   "outputs": [],
   "source": [
    "# Faz um iteração na tabela de links e armazena os endereços"
   ]
  },
  {
   "cell_type": "code",
   "execution_count": 8,
   "metadata": {},
   "outputs": [],
   "source": [
    "for table_ele in pdfs:\n",
    "    \n",
    "    for row in table_ele.findAll('tr'):\n",
    "        \n",
    "        cols = row.findAll('td')\n",
    "        \n",
    "        for item in cols:\n",
    "            try:    \n",
    "                url = item.find('a').get('href')\n",
    "                site = fixo + url\n",
    "                ano = url[9:13]\n",
    "                numero = item.text\n",
    "                dicionario = {\"site\": str(site).strip(),\n",
    "                              \"numero\": str(numero).strip(),\n",
    "                              \"ano\": str(ano).strip()\n",
    "                             }\n",
    "                lista.append(dicionario)\n",
    "            except:\n",
    "                None"
   ]
  },
  {
   "cell_type": "code",
   "execution_count": null,
   "metadata": {},
   "outputs": [],
   "source": [
    "# Cria um dataframe"
   ]
  },
  {
   "cell_type": "code",
   "execution_count": 9,
   "metadata": {},
   "outputs": [],
   "source": [
    "df_pdfs = pd.DataFrame(lista)"
   ]
  },
  {
   "cell_type": "code",
   "execution_count": 10,
   "metadata": {},
   "outputs": [
    {
     "name": "stdout",
     "output_type": "stream",
     "text": [
      "<class 'pandas.core.frame.DataFrame'>\n",
      "RangeIndex: 1261 entries, 0 to 1260\n",
      "Data columns (total 3 columns):\n",
      " #   Column  Non-Null Count  Dtype \n",
      "---  ------  --------------  ----- \n",
      " 0   site    1261 non-null   object\n",
      " 1   numero  1261 non-null   object\n",
      " 2   ano     1261 non-null   object\n",
      "dtypes: object(3)\n",
      "memory usage: 29.7+ KB\n"
     ]
    }
   ],
   "source": [
    "df_pdfs.info()"
   ]
  },
  {
   "cell_type": "code",
   "execution_count": 11,
   "metadata": {},
   "outputs": [
    {
     "data": {
      "text/html": [
       "<div>\n",
       "<style scoped>\n",
       "    .dataframe tbody tr th:only-of-type {\n",
       "        vertical-align: middle;\n",
       "    }\n",
       "\n",
       "    .dataframe tbody tr th {\n",
       "        vertical-align: top;\n",
       "    }\n",
       "\n",
       "    .dataframe thead th {\n",
       "        text-align: right;\n",
       "    }\n",
       "</style>\n",
       "<table border=\"1\" class=\"dataframe\">\n",
       "  <thead>\n",
       "    <tr style=\"text-align: right;\">\n",
       "      <th></th>\n",
       "      <th>index</th>\n",
       "      <th>site</th>\n",
       "      <th>numero</th>\n",
       "      <th>ano</th>\n",
       "    </tr>\n",
       "  </thead>\n",
       "  <tbody>\n",
       "    <tr>\n",
       "      <th>1256</th>\n",
       "      <td>1256</td>\n",
       "      <td>http://www.ouvidoriageral.sp.gov.br/decisoes/2...</td>\n",
       "      <td>364</td>\n",
       "      <td>2016</td>\n",
       "    </tr>\n",
       "    <tr>\n",
       "      <th>1257</th>\n",
       "      <td>1257</td>\n",
       "      <td>http://www.ouvidoriageral.sp.gov.br/decisoes/2...</td>\n",
       "      <td>365</td>\n",
       "      <td>2016</td>\n",
       "    </tr>\n",
       "    <tr>\n",
       "      <th>1258</th>\n",
       "      <td>1258</td>\n",
       "      <td>http://www.ouvidoriageral.sp.gov.br/decisoes/2...</td>\n",
       "      <td>366</td>\n",
       "      <td>2016</td>\n",
       "    </tr>\n",
       "    <tr>\n",
       "      <th>1259</th>\n",
       "      <td>1259</td>\n",
       "      <td>http://www.ouvidoriageral.sp.gov.br/decisoes/2...</td>\n",
       "      <td>368</td>\n",
       "      <td>2016</td>\n",
       "    </tr>\n",
       "    <tr>\n",
       "      <th>1260</th>\n",
       "      <td>1260</td>\n",
       "      <td>http://www.ouvidoriageral.sp.gov.br/decisoes/2...</td>\n",
       "      <td>369</td>\n",
       "      <td>2016</td>\n",
       "    </tr>\n",
       "  </tbody>\n",
       "</table>\n",
       "</div>"
      ],
      "text/plain": [
       "      index                                               site numero   ano\n",
       "1256   1256  http://www.ouvidoriageral.sp.gov.br/decisoes/2...    364  2016\n",
       "1257   1257  http://www.ouvidoriageral.sp.gov.br/decisoes/2...    365  2016\n",
       "1258   1258  http://www.ouvidoriageral.sp.gov.br/decisoes/2...    366  2016\n",
       "1259   1259  http://www.ouvidoriageral.sp.gov.br/decisoes/2...    368  2016\n",
       "1260   1260  http://www.ouvidoriageral.sp.gov.br/decisoes/2...    369  2016"
      ]
     },
     "execution_count": 11,
     "metadata": {},
     "output_type": "execute_result"
    }
   ],
   "source": [
    "df_pdfs.reset_index().tail()"
   ]
  },
  {
   "cell_type": "code",
   "execution_count": null,
   "metadata": {},
   "outputs": [],
   "source": []
  },
  {
   "cell_type": "code",
   "execution_count": 15,
   "metadata": {},
   "outputs": [],
   "source": [
    "# Seta o diretório de trabalho "
   ]
  },
  {
   "cell_type": "code",
   "execution_count": 23,
   "metadata": {},
   "outputs": [
    {
     "name": "stdout",
     "output_type": "stream",
     "text": [
      "/home/abraji/Documentos/Code/lai_sp/repo\n"
     ]
    }
   ],
   "source": [
    "print (os.getcwd())"
   ]
  },
  {
   "cell_type": "code",
   "execution_count": 24,
   "metadata": {},
   "outputs": [],
   "source": [
    "os.chdir(\"/home/abraji/Documentos/Code/lai_sp/repo/pdfs\")"
   ]
  },
  {
   "cell_type": "code",
   "execution_count": 25,
   "metadata": {},
   "outputs": [
    {
     "name": "stdout",
     "output_type": "stream",
     "text": [
      "/home/abraji/Documentos/Code/lai_sp/repo/pdfs\n"
     ]
    }
   ],
   "source": [
    "print (os.getcwd())"
   ]
  },
  {
   "cell_type": "code",
   "execution_count": 26,
   "metadata": {},
   "outputs": [],
   "source": [
    "dirname = \"/home/abraji/Documentos/Code/lai_sp/repo/pdfs\""
   ]
  },
  {
   "cell_type": "code",
   "execution_count": null,
   "metadata": {},
   "outputs": [],
   "source": []
  },
  {
   "cell_type": "code",
   "execution_count": null,
   "metadata": {},
   "outputs": [],
   "source": [
    "# Cria uma lista vazia para os resultados"
   ]
  },
  {
   "cell_type": "code",
   "execution_count": 16,
   "metadata": {},
   "outputs": [],
   "source": [
    "lista_final = []"
   ]
  },
  {
   "cell_type": "code",
   "execution_count": null,
   "metadata": {},
   "outputs": [],
   "source": [
    "# Inicia iteração no dataframe de links de PDFs"
   ]
  },
  {
   "cell_type": "code",
   "execution_count": null,
   "metadata": {},
   "outputs": [],
   "source": [
    "for num, row in df_pdfs.iterrows():\n",
    "    # Cria variáveis com os itens do PDFs\n",
    "    link = row['site']\n",
    "    numero = row['numero']\n",
    "    ano = row['ano']\n",
    "    # O nome do arquivo fica nessa posição, mas pode ter um caracter indevido\n",
    "    arquivo = link[50:]\n",
    "    arquivo = arquivo.replace(\"/\", \"\")\n",
    "    \n",
    "    print(arquivo)\n",
    "    print(link)\n",
    "    #time.sleep(2)\n",
    "    \n",
    "    try:\n",
    "        # Faz o download do PDF\n",
    "        wget.download(link)\n",
    "        \n",
    "        # Faz a rotina OCR, baseado no nome do arquivo na função acima\n",
    "        texto = captura_texto(arquivo)\n",
    "        \n",
    "        # Cria um dicionário com dados do PDFs e seu conteúdo retornado\n",
    "        dicionario = {\"site\": str(link).strip(),\n",
    "                      \"numero\": str(numero).strip(),\n",
    "                      \"ano\": str(ano).strip(),\n",
    "                      \"texto_do_documento\": str(texto).strip()\n",
    "                             }\n",
    "        # Armazena na lista criada\n",
    "        lista_final.append(dicionario)\n",
    "        \n",
    "        # Apaga o arquivo de conteudo do PDF atual\n",
    "        os.remove(\"out_text.txt\")\n",
    "        # Apaga as imagens OCR do PDF atual\n",
    "        test = os.listdir(dirname)\n",
    "        for item in test:\n",
    "            if item.endswith(\".jpg\"):\n",
    "                os.remove(os.path.join(dirname, item))\n",
    "        \n",
    "    except:\n",
    "        print(\"ERRRO\")\n",
    "        pass"
   ]
  },
  {
   "cell_type": "code",
   "execution_count": null,
   "metadata": {},
   "outputs": [],
   "source": [
    "# Cria dataframe a partir da lista de conteudos de PDFs"
   ]
  },
  {
   "cell_type": "code",
   "execution_count": 18,
   "metadata": {},
   "outputs": [],
   "source": [
    "df_pdfs_final = pd.DataFrame(lista_final)"
   ]
  },
  {
   "cell_type": "code",
   "execution_count": 19,
   "metadata": {},
   "outputs": [
    {
     "data": {
      "text/html": [
       "<div>\n",
       "<style scoped>\n",
       "    .dataframe tbody tr th:only-of-type {\n",
       "        vertical-align: middle;\n",
       "    }\n",
       "\n",
       "    .dataframe tbody tr th {\n",
       "        vertical-align: top;\n",
       "    }\n",
       "\n",
       "    .dataframe thead th {\n",
       "        text-align: right;\n",
       "    }\n",
       "</style>\n",
       "<table border=\"1\" class=\"dataframe\">\n",
       "  <thead>\n",
       "    <tr style=\"text-align: right;\">\n",
       "      <th></th>\n",
       "      <th>index</th>\n",
       "      <th>site</th>\n",
       "      <th>numero</th>\n",
       "      <th>ano</th>\n",
       "      <th>texto_do_documento</th>\n",
       "    </tr>\n",
       "  </thead>\n",
       "  <tbody>\n",
       "    <tr>\n",
       "      <th>0</th>\n",
       "      <td>0</td>\n",
       "      <td>http://www.ouvidoriageral.sp.gov.br/decisoes/2...</td>\n",
       "      <td>004</td>\n",
       "      <td>2019</td>\n",
       "      <td>GOVERNO DO ESTADO DE SAO PAULO\\nOUVIDORIA GERA...</td>\n",
       "    </tr>\n",
       "    <tr>\n",
       "      <th>1</th>\n",
       "      <td>1</td>\n",
       "      <td>http://www.ouvidoriageral.sp.gov.br/decisoes/2...</td>\n",
       "      <td>005</td>\n",
       "      <td>2019</td>\n",
       "      <td>GOVERNO DO ESTADO DE SAO PAULO\\nOUVIDORIA GERA...</td>\n",
       "    </tr>\n",
       "    <tr>\n",
       "      <th>2</th>\n",
       "      <td>2</td>\n",
       "      <td>http://www.ouvidoriageral.sp.gov.br/decisoes/2...</td>\n",
       "      <td>006</td>\n",
       "      <td>2019</td>\n",
       "      <td>—\\n\\nGOVERNO DO ESTADO DE SAO PAULO\\nOUVIDORIA...</td>\n",
       "    </tr>\n",
       "    <tr>\n",
       "      <th>3</th>\n",
       "      <td>3</td>\n",
       "      <td>http://www.ouvidoriageral.sp.gov.br/decisoes/2...</td>\n",
       "      <td>007</td>\n",
       "      <td>2019</td>\n",
       "      <td>GOVERNO DO ESTADO DE SAO PAULO\\nOUVIDORIA GERA...</td>\n",
       "    </tr>\n",
       "    <tr>\n",
       "      <th>4</th>\n",
       "      <td>4</td>\n",
       "      <td>http://www.ouvidoriageral.sp.gov.br/decisoes/2...</td>\n",
       "      <td>008</td>\n",
       "      <td>2019</td>\n",
       "      <td>GOVERNO DO ESTADO DE SAO PAULO\\nOUVIDORIA GERA...</td>\n",
       "    </tr>\n",
       "  </tbody>\n",
       "</table>\n",
       "</div>"
      ],
      "text/plain": [
       "   index                                               site numero   ano  \\\n",
       "0      0  http://www.ouvidoriageral.sp.gov.br/decisoes/2...    004  2019   \n",
       "1      1  http://www.ouvidoriageral.sp.gov.br/decisoes/2...    005  2019   \n",
       "2      2  http://www.ouvidoriageral.sp.gov.br/decisoes/2...    006  2019   \n",
       "3      3  http://www.ouvidoriageral.sp.gov.br/decisoes/2...    007  2019   \n",
       "4      4  http://www.ouvidoriageral.sp.gov.br/decisoes/2...    008  2019   \n",
       "\n",
       "                                  texto_do_documento  \n",
       "0  GOVERNO DO ESTADO DE SAO PAULO\\nOUVIDORIA GERA...  \n",
       "1  GOVERNO DO ESTADO DE SAO PAULO\\nOUVIDORIA GERA...  \n",
       "2  —\\n\\nGOVERNO DO ESTADO DE SAO PAULO\\nOUVIDORIA...  \n",
       "3  GOVERNO DO ESTADO DE SAO PAULO\\nOUVIDORIA GERA...  \n",
       "4  GOVERNO DO ESTADO DE SAO PAULO\\nOUVIDORIA GERA...  "
      ]
     },
     "execution_count": 19,
     "metadata": {},
     "output_type": "execute_result"
    }
   ],
   "source": [
    "df_pdfs_final.reset_index().head()"
   ]
  },
  {
   "cell_type": "code",
   "execution_count": 27,
   "metadata": {},
   "outputs": [
    {
     "name": "stdout",
     "output_type": "stream",
     "text": [
      "<class 'pandas.core.frame.DataFrame'>\n",
      "RangeIndex: 1253 entries, 0 to 1252\n",
      "Data columns (total 5 columns):\n",
      " #   Column              Non-Null Count  Dtype \n",
      "---  ------              --------------  ----- \n",
      " 0   site                1253 non-null   object\n",
      " 1   numero              1253 non-null   object\n",
      " 2   ano                 1253 non-null   object\n",
      " 3   texto_do_documento  1253 non-null   object\n",
      " 4   texto_minusculo     1253 non-null   object\n",
      "dtypes: object(5)\n",
      "memory usage: 49.1+ KB\n"
     ]
    }
   ],
   "source": [
    "df_pdfs_final.info()"
   ]
  },
  {
   "cell_type": "code",
   "execution_count": 21,
   "metadata": {},
   "outputs": [],
   "source": [
    "df_pdfs_final.to_csv(\"../laisp_textos.csv\", index=False)"
   ]
  },
  {
   "cell_type": "code",
   "execution_count": null,
   "metadata": {},
   "outputs": [],
   "source": []
  },
  {
   "cell_type": "code",
   "execution_count": null,
   "metadata": {},
   "outputs": [],
   "source": [
    "# Carrega arquivo salvo se não quiser repetir o download OCR"
   ]
  },
  {
   "cell_type": "code",
   "execution_count": 5,
   "metadata": {},
   "outputs": [],
   "source": [
    "kwargs = {'sep': ',', 'dtype': str, 'encoding': 'utf-8'}\n",
    "df_pdfs_final = pd.read_csv(\"laisp_textos.csv\", **kwargs)"
   ]
  },
  {
   "cell_type": "code",
   "execution_count": null,
   "metadata": {},
   "outputs": [],
   "source": []
  },
  {
   "cell_type": "code",
   "execution_count": null,
   "metadata": {},
   "outputs": [],
   "source": [
    "# Cria um campo em separado copia para fazer buscas"
   ]
  },
  {
   "cell_type": "code",
   "execution_count": 22,
   "metadata": {},
   "outputs": [],
   "source": [
    "df_pdfs_final['texto_minusculo'] = df_pdfs_final['texto_do_documento']\n",
    "df_pdfs_final['texto_minusculo'] = df_pdfs_final['texto_minusculo'].str.lower()"
   ]
  },
  {
   "cell_type": "code",
   "execution_count": null,
   "metadata": {},
   "outputs": [],
   "source": [
    "# Procura termos relacionados a indeferimento"
   ]
  },
  {
   "cell_type": "code",
   "execution_count": 23,
   "metadata": {},
   "outputs": [
    {
     "name": "stdout",
     "output_type": "stream",
     "text": [
      "<class 'pandas.core.frame.DataFrame'>\n",
      "Int64Index: 519 entries, 0 to 1251\n",
      "Data columns (total 5 columns):\n",
      " #   Column              Non-Null Count  Dtype \n",
      "---  ------              --------------  ----- \n",
      " 0   site                519 non-null    object\n",
      " 1   numero              519 non-null    object\n",
      " 2   ano                 519 non-null    object\n",
      " 3   texto_do_documento  519 non-null    object\n",
      " 4   texto_minusculo     519 non-null    object\n",
      "dtypes: object(5)\n",
      "memory usage: 24.3+ KB\n"
     ]
    }
   ],
   "source": [
    "search_list = [\"indeferido\", \"indeferimento\", \"negado provimento\", \"recurso nao conhecido\", \"recurso não conhecido\", \"perda de objeto\"]\n",
    "mask = df_pdfs_final['texto_minusculo'].str.contains('|'.join(search_list))\n",
    "indeferido = df_pdfs_final[mask]\n",
    "indeferido.info()"
   ]
  },
  {
   "cell_type": "code",
   "execution_count": 24,
   "metadata": {},
   "outputs": [],
   "source": [
    "indeferido.to_csv(\"indeferidos.csv\", index=False)"
   ]
  },
  {
   "cell_type": "code",
   "execution_count": null,
   "metadata": {},
   "outputs": [],
   "source": []
  },
  {
   "cell_type": "code",
   "execution_count": null,
   "metadata": {},
   "outputs": [],
   "source": [
    "# Procura termos relacionados a deferimento"
   ]
  },
  {
   "cell_type": "code",
   "execution_count": 25,
   "metadata": {},
   "outputs": [
    {
     "name": "stdout",
     "output_type": "stream",
     "text": [
      "<class 'pandas.core.frame.DataFrame'>\n",
      "Int64Index: 325 entries, 2 to 1251\n",
      "Data columns (total 5 columns):\n",
      " #   Column              Non-Null Count  Dtype \n",
      "---  ------              --------------  ----- \n",
      " 0   site                325 non-null    object\n",
      " 1   numero              325 non-null    object\n",
      " 2   ano                 325 non-null    object\n",
      " 3   texto_do_documento  325 non-null    object\n",
      " 4   texto_minusculo     325 non-null    object\n",
      "dtypes: object(5)\n",
      "memory usage: 15.2+ KB\n"
     ]
    }
   ],
   "source": [
    "search_list = [\"deferido\", \"deferimento\", \"provimento recursal\"]\n",
    "mask = df_pdfs_final['texto_minusculo'].str.contains('|'.join(search_list))\n",
    "deferido = df_pdfs_final[mask]\n",
    "deferido.info()"
   ]
  },
  {
   "cell_type": "code",
   "execution_count": 26,
   "metadata": {},
   "outputs": [],
   "source": [
    "deferido.to_csv(\"deferidos.csv\", index=False)"
   ]
  },
  {
   "cell_type": "code",
   "execution_count": null,
   "metadata": {},
   "outputs": [],
   "source": []
  },
  {
   "cell_type": "code",
   "execution_count": null,
   "metadata": {},
   "outputs": [],
   "source": []
  }
 ],
 "metadata": {
  "kernelspec": {
   "display_name": "Python 3",
   "language": "python",
   "name": "python3"
  },
  "language_info": {
   "codemirror_mode": {
    "name": "ipython",
    "version": 3
   },
   "file_extension": ".py",
   "mimetype": "text/x-python",
   "name": "python",
   "nbconvert_exporter": "python",
   "pygments_lexer": "ipython3",
   "version": "3.6.9"
  }
 },
 "nbformat": 4,
 "nbformat_minor": 4
}
